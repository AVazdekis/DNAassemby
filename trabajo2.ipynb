{
 "cells": [
  {
   "cell_type": "markdown",
   "metadata": {},
   "source": [
    "# EJERCICIO 3"
   ]
  },
  {
   "cell_type": "markdown",
   "metadata": {},
   "source": [
    "# Ensamblaje de Secuencias de ADN mediante Grafos de De Bruijn\n",
    "\n",
    "En este ejercicio, se abordará el ensamblaje de secuencias de ADN utilizando grafos de De Bruijn a partir de fragmentos de secuenciación de próxima generación (NGS). A continuación, se presentan el desarrollo del problema, el código utilizado para la construcción y visualización del grafo, así como las respuestas a las preguntas adicionales.\n",
    "\n",
    "## Datos del Ejercicio\n",
    "\n",
    "1. El alfabeto de las bases del ADN es \\{A, C, G, T\\}.\n",
    "2. Los fragmentos de ADN (lecturas) obtenidos son de longitud k = 4:\n",
    "   - AGTC\n",
    "   - GTCA\n",
    "   - TCAG\n",
    "   - CAGT\n",
    "   - AGTT\n",
    "   - GTTG\n",
    "\n",
    "### Objetivo\n",
    "1. **Construcción del Grafo de De Bruijn**: Dividir cada fragmento en un prefijo de longitud \\(k-1=3\\) y un sufijo de longitud \\(k-1=3\\), construir un grafo dirigido donde los nodos son estos prefijos y sufijos, y las aristas representan los fragmentos.\n",
    "2. **Determinación de la Secuencia Original**: Reconstruir la secuencia original de ADN siguiendo un camino euleriano que recorra todas las aristas del grafo una sola vez.\n"
   ]
  },
  {
   "cell_type": "markdown",
   "metadata": {},
   "source": [
    "## Paso 1: Construcción del Grafo de De Bruijn\n",
    "\n",
    "Para construir el grafo de De Bruijn, dividimos cada fragmento de longitud \\( k = 4 \\) en prefijos y sufijos de longitud \\( k-1 = 3 \\). Esto permite que cada fragmento de ADN se represente como una arista en el grafo, conectando su prefijo y sufijo correspondientes. "
   ]
  },
  {
   "cell_type": "code",
   "execution_count": 1,
   "metadata": {},
   "outputs": [
    {
     "ename": "KeyboardInterrupt",
     "evalue": "",
     "output_type": "error",
     "traceback": [
      "\u001b[1;31m---------------------------------------------------------------------------\u001b[0m",
      "\u001b[1;31mKeyboardInterrupt\u001b[0m                         Traceback (most recent call last)",
      "Cell \u001b[1;32mIn [1], line 2\u001b[0m\n\u001b[0;32m      1\u001b[0m \u001b[38;5;28;01mimport\u001b[39;00m \u001b[38;5;21;01mnetworkx\u001b[39;00m \u001b[38;5;28;01mas\u001b[39;00m \u001b[38;5;21;01mnx\u001b[39;00m\n\u001b[1;32m----> 2\u001b[0m \u001b[38;5;28;01mimport\u001b[39;00m \u001b[38;5;21;01mmatplotlib\u001b[39;00m\u001b[38;5;21;01m.\u001b[39;00m\u001b[38;5;21;01mpyplot\u001b[39;00m \u001b[38;5;28;01mas\u001b[39;00m \u001b[38;5;21;01mplt\u001b[39;00m\n\u001b[0;32m      4\u001b[0m \u001b[38;5;66;03m#fragments = [\"AGTC\", \"GTCA\", \"TCAG\", \"CAGT\", \"AGTT\", \"GTTG\"]\u001b[39;00m\n\u001b[0;32m      5\u001b[0m fragments \u001b[38;5;241m=\u001b[39m [\u001b[38;5;124m\"\u001b[39m\u001b[38;5;124mAGTT\u001b[39m\u001b[38;5;124m\"\u001b[39m, \u001b[38;5;124m\"\u001b[39m\u001b[38;5;124mGTTG\u001b[39m\u001b[38;5;124m\"\u001b[39m, \u001b[38;5;124m\"\u001b[39m\u001b[38;5;124mTTGA\u001b[39m\u001b[38;5;124m\"\u001b[39m, \u001b[38;5;124m\"\u001b[39m\u001b[38;5;124mTGAC\u001b[39m\u001b[38;5;124m\"\u001b[39m, \u001b[38;5;124m\"\u001b[39m\u001b[38;5;124mGACG\u001b[39m\u001b[38;5;124m\"\u001b[39m, \u001b[38;5;124m\"\u001b[39m\u001b[38;5;124mACGA\u001b[39m\u001b[38;5;124m\"\u001b[39m, \u001b[38;5;124m\"\u001b[39m\u001b[38;5;124mCGAA\u001b[39m\u001b[38;5;124m\"\u001b[39m, \u001b[38;5;124m\"\u001b[39m\u001b[38;5;124mGAAC\u001b[39m\u001b[38;5;124m\"\u001b[39m, \u001b[38;5;124m\"\u001b[39m\u001b[38;5;124mAACG\u001b[39m\u001b[38;5;124m\"\u001b[39m]\n",
      "File \u001b[1;32mc:\\Users\\ariss\\AppData\\Local\\Programs\\Python\\Python39\\lib\\site-packages\\matplotlib\\pyplot.py:52\u001b[0m\n\u001b[0;32m     50\u001b[0m \u001b[38;5;28;01mfrom\u001b[39;00m \u001b[38;5;21;01mcycler\u001b[39;00m \u001b[38;5;28;01mimport\u001b[39;00m cycler\n\u001b[0;32m     51\u001b[0m \u001b[38;5;28;01mimport\u001b[39;00m \u001b[38;5;21;01mmatplotlib\u001b[39;00m\n\u001b[1;32m---> 52\u001b[0m \u001b[38;5;28;01mimport\u001b[39;00m \u001b[38;5;21;01mmatplotlib\u001b[39;00m\u001b[38;5;21;01m.\u001b[39;00m\u001b[38;5;21;01mcolorbar\u001b[39;00m\n\u001b[0;32m     53\u001b[0m \u001b[38;5;28;01mimport\u001b[39;00m \u001b[38;5;21;01mmatplotlib\u001b[39;00m\u001b[38;5;21;01m.\u001b[39;00m\u001b[38;5;21;01mimage\u001b[39;00m\n\u001b[0;32m     54\u001b[0m \u001b[38;5;28;01mfrom\u001b[39;00m \u001b[38;5;21;01mmatplotlib\u001b[39;00m \u001b[38;5;28;01mimport\u001b[39;00m _api\n",
      "File \u001b[1;32mc:\\Users\\ariss\\AppData\\Local\\Programs\\Python\\Python39\\lib\\site-packages\\matplotlib\\colorbar.py:19\u001b[0m\n\u001b[0;32m     16\u001b[0m \u001b[38;5;28;01mimport\u001b[39;00m \u001b[38;5;21;01mnumpy\u001b[39;00m \u001b[38;5;28;01mas\u001b[39;00m \u001b[38;5;21;01mnp\u001b[39;00m\n\u001b[0;32m     18\u001b[0m \u001b[38;5;28;01mimport\u001b[39;00m \u001b[38;5;21;01mmatplotlib\u001b[39;00m \u001b[38;5;28;01mas\u001b[39;00m \u001b[38;5;21;01mmpl\u001b[39;00m\n\u001b[1;32m---> 19\u001b[0m \u001b[38;5;28;01mfrom\u001b[39;00m \u001b[38;5;21;01mmatplotlib\u001b[39;00m \u001b[38;5;28;01mimport\u001b[39;00m _api, cbook, collections, cm, colors, contour, ticker\n\u001b[0;32m     20\u001b[0m \u001b[38;5;28;01mimport\u001b[39;00m \u001b[38;5;21;01mmatplotlib\u001b[39;00m\u001b[38;5;21;01m.\u001b[39;00m\u001b[38;5;21;01martist\u001b[39;00m \u001b[38;5;28;01mas\u001b[39;00m \u001b[38;5;21;01mmartist\u001b[39;00m\n\u001b[0;32m     21\u001b[0m \u001b[38;5;28;01mimport\u001b[39;00m \u001b[38;5;21;01mmatplotlib\u001b[39;00m\u001b[38;5;21;01m.\u001b[39;00m\u001b[38;5;21;01mpatches\u001b[39;00m \u001b[38;5;28;01mas\u001b[39;00m \u001b[38;5;21;01mmpatches\u001b[39;00m\n",
      "File \u001b[1;32mc:\\Users\\ariss\\AppData\\Local\\Programs\\Python\\Python39\\lib\\site-packages\\matplotlib\\collections.py:1347\u001b[0m\n\u001b[0;32m   1343\u001b[0m     \u001b[38;5;124;03m\"\"\"Draw a collection of regular stars with *numsides* points.\"\"\"\u001b[39;00m\n\u001b[0;32m   1344\u001b[0m     _path_generator \u001b[38;5;241m=\u001b[39m mpath\u001b[38;5;241m.\u001b[39mPath\u001b[38;5;241m.\u001b[39munit_regular_star\n\u001b[1;32m-> 1347\u001b[0m \u001b[38;5;28;01mclass\u001b[39;00m \u001b[38;5;21;01mAsteriskPolygonCollection\u001b[39;00m(RegularPolyCollection):\n\u001b[0;32m   1348\u001b[0m     \u001b[38;5;124;03m\"\"\"Draw a collection of regular asterisks with *numsides* points.\"\"\"\u001b[39;00m\n\u001b[0;32m   1349\u001b[0m     _path_generator \u001b[38;5;241m=\u001b[39m mpath\u001b[38;5;241m.\u001b[39mPath\u001b[38;5;241m.\u001b[39munit_regular_asterisk\n",
      "File \u001b[1;32mc:\\Users\\ariss\\AppData\\Local\\Programs\\Python\\Python39\\lib\\site-packages\\matplotlib\\artist.py:120\u001b[0m, in \u001b[0;36mArtist.__init_subclass__\u001b[1;34m(cls)\u001b[0m\n\u001b[0;32m    118\u001b[0m \u001b[38;5;28mcls\u001b[39m\u001b[38;5;241m.\u001b[39mset\u001b[38;5;241m.\u001b[39m\u001b[38;5;18m__name__\u001b[39m \u001b[38;5;241m=\u001b[39m \u001b[38;5;124m\"\u001b[39m\u001b[38;5;124mset\u001b[39m\u001b[38;5;124m\"\u001b[39m\n\u001b[0;32m    119\u001b[0m \u001b[38;5;28mcls\u001b[39m\u001b[38;5;241m.\u001b[39mset\u001b[38;5;241m.\u001b[39m\u001b[38;5;18m__qualname__\u001b[39m \u001b[38;5;241m=\u001b[39m \u001b[38;5;124mf\u001b[39m\u001b[38;5;124m\"\u001b[39m\u001b[38;5;132;01m{\u001b[39;00m\u001b[38;5;28mcls\u001b[39m\u001b[38;5;241m.\u001b[39m\u001b[38;5;18m__qualname__\u001b[39m\u001b[38;5;132;01m}\u001b[39;00m\u001b[38;5;124m.set\u001b[39m\u001b[38;5;124m\"\u001b[39m\n\u001b[1;32m--> 120\u001b[0m \u001b[38;5;28;43mcls\u001b[39;49m\u001b[38;5;241;43m.\u001b[39;49m\u001b[43m_update_set_signature_and_docstring\u001b[49m\u001b[43m(\u001b[49m\u001b[43m)\u001b[49m\n",
      "File \u001b[1;32mc:\\Users\\ariss\\AppData\\Local\\Programs\\Python\\Python39\\lib\\site-packages\\matplotlib\\artist.py:148\u001b[0m, in \u001b[0;36mArtist._update_set_signature_and_docstring\u001b[1;34m(cls)\u001b[0m\n\u001b[0;32m    138\u001b[0m \u001b[38;5;28mcls\u001b[39m\u001b[38;5;241m.\u001b[39mset\u001b[38;5;241m.\u001b[39m__signature__ \u001b[38;5;241m=\u001b[39m Signature(\n\u001b[0;32m    139\u001b[0m     [Parameter(\u001b[38;5;124m\"\u001b[39m\u001b[38;5;124mself\u001b[39m\u001b[38;5;124m\"\u001b[39m, Parameter\u001b[38;5;241m.\u001b[39mPOSITIONAL_OR_KEYWORD),\n\u001b[0;32m    140\u001b[0m      \u001b[38;5;241m*\u001b[39m[Parameter(prop, Parameter\u001b[38;5;241m.\u001b[39mKEYWORD_ONLY, default\u001b[38;5;241m=\u001b[39m_UNSET)\n\u001b[0;32m    141\u001b[0m        \u001b[38;5;28;01mfor\u001b[39;00m prop \u001b[38;5;129;01min\u001b[39;00m ArtistInspector(\u001b[38;5;28mcls\u001b[39m)\u001b[38;5;241m.\u001b[39mget_setters()\n\u001b[0;32m    142\u001b[0m        \u001b[38;5;28;01mif\u001b[39;00m prop \u001b[38;5;129;01mnot\u001b[39;00m \u001b[38;5;129;01min\u001b[39;00m Artist\u001b[38;5;241m.\u001b[39m_PROPERTIES_EXCLUDED_FROM_SET]])\n\u001b[0;32m    143\u001b[0m \u001b[38;5;28mcls\u001b[39m\u001b[38;5;241m.\u001b[39mset\u001b[38;5;241m.\u001b[39m_autogenerated_signature \u001b[38;5;241m=\u001b[39m \u001b[38;5;28;01mTrue\u001b[39;00m\n\u001b[0;32m    145\u001b[0m \u001b[38;5;28mcls\u001b[39m\u001b[38;5;241m.\u001b[39mset\u001b[38;5;241m.\u001b[39m\u001b[38;5;18m__doc__\u001b[39m \u001b[38;5;241m=\u001b[39m (\n\u001b[0;32m    146\u001b[0m     \u001b[38;5;124m\"\u001b[39m\u001b[38;5;124mSet multiple properties at once.\u001b[39m\u001b[38;5;130;01m\\n\u001b[39;00m\u001b[38;5;130;01m\\n\u001b[39;00m\u001b[38;5;124m\"\u001b[39m\n\u001b[0;32m    147\u001b[0m     \u001b[38;5;124m\"\u001b[39m\u001b[38;5;124mSupported properties are\u001b[39m\u001b[38;5;130;01m\\n\u001b[39;00m\u001b[38;5;130;01m\\n\u001b[39;00m\u001b[38;5;124m\"\u001b[39m\n\u001b[1;32m--> 148\u001b[0m     \u001b[38;5;241m+\u001b[39m \u001b[43mkwdoc\u001b[49m\u001b[43m(\u001b[49m\u001b[38;5;28;43mcls\u001b[39;49m\u001b[43m)\u001b[49m)\n",
      "File \u001b[1;32mc:\\Users\\ariss\\AppData\\Local\\Programs\\Python\\Python39\\lib\\site-packages\\matplotlib\\artist.py:1823\u001b[0m, in \u001b[0;36mkwdoc\u001b[1;34m(artist)\u001b[0m\n\u001b[0;32m   1805\u001b[0m \u001b[38;5;124mr\u001b[39m\u001b[38;5;124;03m\"\"\"\u001b[39;00m\n\u001b[0;32m   1806\u001b[0m \u001b[38;5;124;03mInspect an `~matplotlib.artist.Artist` class (using `.ArtistInspector`) and\u001b[39;00m\n\u001b[0;32m   1807\u001b[0m \u001b[38;5;124;03mreturn information about its settable properties and their current values.\u001b[39;00m\n\u001b[1;32m   (...)\u001b[0m\n\u001b[0;32m   1818\u001b[0m \u001b[38;5;124;03m    use in Sphinx) if it is True.\u001b[39;00m\n\u001b[0;32m   1819\u001b[0m \u001b[38;5;124;03m\"\"\"\u001b[39;00m\n\u001b[0;32m   1820\u001b[0m ai \u001b[38;5;241m=\u001b[39m ArtistInspector(artist)\n\u001b[0;32m   1821\u001b[0m \u001b[38;5;28;01mreturn\u001b[39;00m (\u001b[38;5;124m'\u001b[39m\u001b[38;5;130;01m\\n\u001b[39;00m\u001b[38;5;124m'\u001b[39m\u001b[38;5;241m.\u001b[39mjoin(ai\u001b[38;5;241m.\u001b[39mpprint_setters_rest(leadingspace\u001b[38;5;241m=\u001b[39m\u001b[38;5;241m4\u001b[39m))\n\u001b[0;32m   1822\u001b[0m         \u001b[38;5;28;01mif\u001b[39;00m mpl\u001b[38;5;241m.\u001b[39mrcParams[\u001b[38;5;124m'\u001b[39m\u001b[38;5;124mdocstring.hardcopy\u001b[39m\u001b[38;5;124m'\u001b[39m] \u001b[38;5;28;01melse\u001b[39;00m\n\u001b[1;32m-> 1823\u001b[0m         \u001b[38;5;124m'\u001b[39m\u001b[38;5;124mProperties:\u001b[39m\u001b[38;5;130;01m\\n\u001b[39;00m\u001b[38;5;124m'\u001b[39m \u001b[38;5;241m+\u001b[39m \u001b[38;5;124m'\u001b[39m\u001b[38;5;130;01m\\n\u001b[39;00m\u001b[38;5;124m'\u001b[39m\u001b[38;5;241m.\u001b[39mjoin(\u001b[43mai\u001b[49m\u001b[38;5;241;43m.\u001b[39;49m\u001b[43mpprint_setters\u001b[49m\u001b[43m(\u001b[49m\u001b[43mleadingspace\u001b[49m\u001b[38;5;241;43m=\u001b[39;49m\u001b[38;5;241;43m4\u001b[39;49m\u001b[43m)\u001b[49m))\n",
      "File \u001b[1;32mc:\\Users\\ariss\\AppData\\Local\\Programs\\Python\\Python39\\lib\\site-packages\\matplotlib\\artist.py:1584\u001b[0m, in \u001b[0;36mArtistInspector.pprint_setters\u001b[1;34m(self, prop, leadingspace)\u001b[0m\n\u001b[0;32m   1582\u001b[0m lines \u001b[38;5;241m=\u001b[39m []\n\u001b[0;32m   1583\u001b[0m \u001b[38;5;28;01mfor\u001b[39;00m prop \u001b[38;5;129;01min\u001b[39;00m \u001b[38;5;28msorted\u001b[39m(\u001b[38;5;28mself\u001b[39m\u001b[38;5;241m.\u001b[39mget_setters()):\n\u001b[1;32m-> 1584\u001b[0m     accepts \u001b[38;5;241m=\u001b[39m \u001b[38;5;28;43mself\u001b[39;49m\u001b[38;5;241;43m.\u001b[39;49m\u001b[43mget_valid_values\u001b[49m\u001b[43m(\u001b[49m\u001b[43mprop\u001b[49m\u001b[43m)\u001b[49m\n\u001b[0;32m   1585\u001b[0m     name \u001b[38;5;241m=\u001b[39m \u001b[38;5;28mself\u001b[39m\u001b[38;5;241m.\u001b[39maliased_name(prop)\n\u001b[0;32m   1586\u001b[0m     lines\u001b[38;5;241m.\u001b[39mappend(\u001b[38;5;124m'\u001b[39m\u001b[38;5;132;01m%s\u001b[39;00m\u001b[38;5;132;01m%s\u001b[39;00m\u001b[38;5;124m: \u001b[39m\u001b[38;5;132;01m%s\u001b[39;00m\u001b[38;5;124m'\u001b[39m \u001b[38;5;241m%\u001b[39m (pad, name, accepts))\n",
      "File \u001b[1;32mc:\\Users\\ariss\\AppData\\Local\\Programs\\Python\\Python39\\lib\\site-packages\\matplotlib\\artist.py:1451\u001b[0m, in \u001b[0;36mArtistInspector.get_valid_values\u001b[1;34m(self, attr)\u001b[0m\n\u001b[0;32m   1448\u001b[0m     \u001b[38;5;28;01mraise\u001b[39;00m \u001b[38;5;167;01mAttributeError\u001b[39;00m(\u001b[38;5;124m'\u001b[39m\u001b[38;5;132;01m%s\u001b[39;00m\u001b[38;5;124m has no function \u001b[39m\u001b[38;5;132;01m%s\u001b[39;00m\u001b[38;5;124m'\u001b[39m \u001b[38;5;241m%\u001b[39m (\u001b[38;5;28mself\u001b[39m\u001b[38;5;241m.\u001b[39mo, name))\n\u001b[0;32m   1449\u001b[0m func \u001b[38;5;241m=\u001b[39m \u001b[38;5;28mgetattr\u001b[39m(\u001b[38;5;28mself\u001b[39m\u001b[38;5;241m.\u001b[39mo, name)\n\u001b[1;32m-> 1451\u001b[0m docstring \u001b[38;5;241m=\u001b[39m \u001b[43minspect\u001b[49m\u001b[38;5;241;43m.\u001b[39;49m\u001b[43mgetdoc\u001b[49m\u001b[43m(\u001b[49m\u001b[43mfunc\u001b[49m\u001b[43m)\u001b[49m\n\u001b[0;32m   1452\u001b[0m \u001b[38;5;28;01mif\u001b[39;00m docstring \u001b[38;5;129;01mis\u001b[39;00m \u001b[38;5;28;01mNone\u001b[39;00m:\n\u001b[0;32m   1453\u001b[0m     \u001b[38;5;28;01mreturn\u001b[39;00m \u001b[38;5;124m'\u001b[39m\u001b[38;5;124munknown\u001b[39m\u001b[38;5;124m'\u001b[39m\n",
      "File \u001b[1;32mc:\\Users\\ariss\\AppData\\Local\\Programs\\Python\\Python39\\lib\\inspect.py:624\u001b[0m, in \u001b[0;36mgetdoc\u001b[1;34m(object)\u001b[0m\n\u001b[0;32m    622\u001b[0m \u001b[38;5;28;01mif\u001b[39;00m \u001b[38;5;129;01mnot\u001b[39;00m \u001b[38;5;28misinstance\u001b[39m(doc, \u001b[38;5;28mstr\u001b[39m):\n\u001b[0;32m    623\u001b[0m     \u001b[38;5;28;01mreturn\u001b[39;00m \u001b[38;5;28;01mNone\u001b[39;00m\n\u001b[1;32m--> 624\u001b[0m \u001b[38;5;28;01mreturn\u001b[39;00m \u001b[43mcleandoc\u001b[49m\u001b[43m(\u001b[49m\u001b[43mdoc\u001b[49m\u001b[43m)\u001b[49m\n",
      "File \u001b[1;32mc:\\Users\\ariss\\AppData\\Local\\Programs\\Python\\Python39\\lib\\inspect.py:632\u001b[0m, in \u001b[0;36mcleandoc\u001b[1;34m(doc)\u001b[0m\n\u001b[0;32m    627\u001b[0m \u001b[38;5;124;03m\"\"\"Clean up indentation from docstrings.\u001b[39;00m\n\u001b[0;32m    628\u001b[0m \n\u001b[0;32m    629\u001b[0m \u001b[38;5;124;03mAny whitespace that can be uniformly removed from the second line\u001b[39;00m\n\u001b[0;32m    630\u001b[0m \u001b[38;5;124;03monwards is removed.\"\"\"\u001b[39;00m\n\u001b[0;32m    631\u001b[0m \u001b[38;5;28;01mtry\u001b[39;00m:\n\u001b[1;32m--> 632\u001b[0m     lines \u001b[38;5;241m=\u001b[39m \u001b[43mdoc\u001b[49m\u001b[38;5;241;43m.\u001b[39;49m\u001b[43mexpandtabs\u001b[49m\u001b[43m(\u001b[49m\u001b[43m)\u001b[49m\u001b[38;5;241;43m.\u001b[39;49m\u001b[43msplit\u001b[49m(\u001b[38;5;124m'\u001b[39m\u001b[38;5;130;01m\\n\u001b[39;00m\u001b[38;5;124m'\u001b[39m)\n\u001b[0;32m    633\u001b[0m \u001b[38;5;28;01mexcept\u001b[39;00m \u001b[38;5;167;01mUnicodeError\u001b[39;00m:\n\u001b[0;32m    634\u001b[0m     \u001b[38;5;28;01mreturn\u001b[39;00m \u001b[38;5;28;01mNone\u001b[39;00m\n",
      "\u001b[1;31mKeyboardInterrupt\u001b[0m: "
     ]
    }
   ],
   "source": [
    "import networkx as nx\n",
    "import matplotlib.pyplot as plt\n",
    "\n",
    "#fragments = [\"AGTC\", \"GTCA\", \"TCAG\", \"CAGT\", \"AGTT\", \"GTTG\"]\n",
    "fragments = [\"AGTT\", \"GTTG\", \"TTGA\", \"TGAC\", \"GACG\", \"ACGA\", \"CGAA\", \"GAAC\", \"AACG\"]\n",
    "\n",
    "de_bruijn_graph = nx.DiGraph()\n",
    "\n",
    "# añadimos los nodos y las aristas al grafo\n",
    "for fragment in fragments:\n",
    "    prefix = fragment[:-1]  # prefijo de longitud k-1 (3)\n",
    "    suffix = fragment[1:]   # sufijo de longitud k-1 (3)\n",
    "    de_bruijn_graph.add_edge(prefix, suffix, label=fragment)\n",
    "\n",
    "# Dibujado del grafo\n",
    "pos = nx.spring_layout(de_bruijn_graph)\n",
    "plt.figure(figsize=(8, 6))\n",
    "nx.draw(de_bruijn_graph, pos, with_labels=True, node_size=2000, node_color=\"lightblue\", font_size=10, font_weight=\"bold\", arrowsize=20)\n",
    "edge_labels = nx.get_edge_attributes(de_bruijn_graph, 'label')\n",
    "nx.draw_networkx_edge_labels(de_bruijn_graph, pos, edge_labels=edge_labels, font_color='red')\n",
    "plt.title(\"Grafo de De Bruijn a partir de fragmentos de ADN\")\n",
    "plt.show()"
   ]
  },
  {
   "cell_type": "markdown",
   "metadata": {},
   "source": [
    "Aqui vemos como cada nodo representa un prefijo o sufijo, y cada arista (etiquetada con el fragmento correspondiente) conecta los prefijos y sufijos, representando la relación de solapamiento entre los fragmentos de ADN.\n",
    "\n"
   ]
  },
  {
   "cell_type": "markdown",
   "metadata": {},
   "source": [
    "# Paso 2: Encontrar el Camino Euleriano y Ensamblar la Secuencia\n",
    "\n",
    "Un camino euleriano en este grafo permite recorrer cada arista una sola vez, ensamblando así la secuencia original de ADN.\n",
    "\n",
    "\n"
   ]
  },
  {
   "cell_type": "code",
   "execution_count": 2,
   "metadata": {},
   "outputs": [
    {
     "name": "stdout",
     "output_type": "stream",
     "text": [
      "Camino Euleriano: [('AGT', 'GTT'), ('GTT', 'TTG'), ('TTG', 'TGA'), ('TGA', 'GAC'), ('GAC', 'ACG'), ('ACG', 'CGA'), ('CGA', 'GAA'), ('GAA', 'AAC'), ('AAC', 'ACG')]\n",
      "Secuencia ensamblada de ADN: AGTTGACGAACG\n"
     ]
    }
   ],
   "source": [
    "eulerian_path = list(nx.eulerian_path(de_bruijn_graph)) # Camino euleriano en el grafo de De Bruijn\n",
    "\n",
    "assembled_sequence = eulerian_path[0][0]  # Empezar con el primer nodo del camino\n",
    "for u, v in eulerian_path:\n",
    "    assembled_sequence += v[-1]  # Añadir la última letra de cada sufijo en el camino\n",
    "\n",
    "print(\"Camino Euleriano:\", eulerian_path)\n",
    "print(\"Secuencia ensamblada de ADN:\", assembled_sequence)\n"
   ]
  },
  {
   "cell_type": "markdown",
   "metadata": {},
   "source": [
    "La secuencia ensamblada final es el resultado de seguir el camino euleriano en el grafo, tomando cada sufijo de las aristas visitadas y agregándolas para formar la cadena de ADN reconstruida.\n",
    "\n"
   ]
  },
  {
   "cell_type": "markdown",
   "metadata": {},
   "source": [
    "3) El grafo de De Bruijn permite representar cómo los fragmentos de ADN se solapan, ya que cada fragmento se convierte en una arista que conecta un prefijo y un sufijo. Las superposiciones entre cada fragmento se recorren una vez en el camino euleriano, la secuencia original puede reconstruirse uniendo estas superposiciones."
   ]
  },
  {
   "cell_type": "markdown",
   "metadata": {},
   "source": [
    "PREGUNTAS ADICIONALES\n",
    "\n",
    "1) Si hay errores, aparecerían nodos y aristas adicionales, creando caminos alternativos que no forman un camino euleriano completo. Para estos manejar errores, podriamos utilizar algoritmos de corrección de errores o generar estadísticas de frecuencia para identificar errores como caminos poco frecuentes.\n",
    "\n",
    "2) Las repeticiones crean múltiples caminos entre nodos, lo que dificulta encontrar un único camino euleriano. Esto se soluciona utilizando fragmentos más largos o métodos de corrección de repetición.\n",
    "\n",
    "3) Los k-mers más largos reducen la ambigüedad, ya que proporcionan más contexto en cada fragmento, lo cual disminuye la cantidad de caminos repetitivos en el grafo y mejora la precisión del ensamblaje."
   ]
  }
 ],
 "metadata": {
  "kernelspec": {
   "display_name": "Python 3",
   "language": "python",
   "name": "python3"
  },
  "language_info": {
   "codemirror_mode": {
    "name": "ipython",
    "version": 3
   },
   "file_extension": ".py",
   "mimetype": "text/x-python",
   "name": "python",
   "nbconvert_exporter": "python",
   "pygments_lexer": "ipython3",
   "version": "3.9.6"
  }
 },
 "nbformat": 4,
 "nbformat_minor": 2
}
